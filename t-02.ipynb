{
 "cells": [
  {
   "cell_type": "code",
   "execution_count": 1,
   "metadata": {},
   "outputs": [
    {
     "name": "stdout",
     "output_type": "stream",
     "text": [
      "h\n"
     ]
    }
   ],
   "source": [
    "print('h')"
   ]
  },
  {
   "cell_type": "code",
   "execution_count": 5,
   "metadata": {},
   "outputs": [
    {
     "ename": "ModuleNotFoundError",
     "evalue": "No module named 'mpi4py'",
     "output_type": "error",
     "traceback": [
      "\u001b[0;31m---------------------------------------------------------------------------\u001b[0m",
      "\u001b[0;31mModuleNotFoundError\u001b[0m                       Traceback (most recent call last)",
      "\u001b[1;32m/home01/a1817a01/job_examples/t-02.ipynb Cell 2\u001b[0m line \u001b[0;36m1\n\u001b[0;32m----> <a href='vscode-notebook-cell://ef5dr82g.console-nurion.ksc.re.kr/home01/a1817a01/job_examples/t-02.ipynb#W2sdnNjb2RlLXJlbW90ZQ%3D%3D?line=0'>1</a>\u001b[0m \u001b[39mimport\u001b[39;00m \u001b[39mmpi4py\u001b[39;00m\n",
      "\u001b[0;31mModuleNotFoundError\u001b[0m: No module named 'mpi4py'"
     ]
    }
   ],
   "source": [
    "import mpi4py"
   ]
  },
  {
   "cell_type": "code",
   "execution_count": 6,
   "metadata": {},
   "outputs": [],
   "source": [
    "from mpi4py import MPI"
   ]
  },
  {
   "cell_type": "code",
   "execution_count": 7,
   "metadata": {},
   "outputs": [
    {
     "name": "stdout",
     "output_type": "stream",
     "text": [
      "이 프로그램은 최소 2개의 프로세스가 필요합니다.\n"
     ]
    }
   ],
   "source": [
    "# from mpi4py import MPI\n",
    "\n",
    "# MPI 초기화\n",
    "comm = MPI.COMM_WORLD\n",
    "rank = comm.Get_rank()  # 현재 프로세스의 랭크 (ID)\n",
    "size = comm.Get_size()  # 총 프로세스 수\n",
    "\n",
    "if size < 2:\n",
    "    print(\"이 프로그램은 최소 2개의 프로세스가 필요합니다.\")\n",
    "else:\n",
    "    if rank == 0:\n",
    "        # 프로세스 0에서 프로세스 1에게 메시지 전송\n",
    "        message = \"hello from rank 0\"\n",
    "        comm.send(message, dest=1, tag=0)\n",
    "        print(f\"Rank {rank}: 메시지 전송 완료: {message}\")\n",
    "        \n",
    "        # 프로세스 1로부터 응답 받기\n",
    "        response = comm.recv(source=1, tag=1)\n",
    "        print(f\"Rank {rank}: 프로세스 1로부터 응답 수신: {response}\")\n",
    "        \n",
    "    elif rank == 1:\n",
    "        # 프로세스 0으로부터 메시지 수신\n",
    "        message = comm.recv(source=0, tag=0)\n",
    "        print(f\"Rank {rank}: 프로세스 0로부터 메시지 수신: {message}\")\n",
    "        \n",
    "        # 프로세스 0에게 응답 전송\n",
    "        response = \"hello from rank 1\"\n",
    "        comm.send(response, dest=0, tag=1)\n",
    "        print(f\"Rank {rank}: 응답 전송 완료: {response}\")\n"
   ]
  },
  {
   "cell_type": "code",
   "execution_count": 8,
   "metadata": {},
   "outputs": [],
   "source": [
    "import concurrent.futures"
   ]
  },
  {
   "cell_type": "code",
   "execution_count": 9,
   "metadata": {},
   "outputs": [
    {
     "name": "stdout",
     "output_type": "stream",
     "text": [
      "Process 0: 메시지 전송 완료: hello from process 0\n",
      "Process 1: 프로세스 0로부터 메시지 수신: hello from process 0Process 0: 프로세스 1로부터 응답 수신: hello from process 1\n",
      "\n",
      "Process 1: 응답 전송 완료: hello from process 1\n"
     ]
    }
   ],
   "source": [
    "import concurrent.futures\n",
    "\n",
    "def process_0():\n",
    "    # 프로세스 0에서 프로세스 1에게 메시지 전송\n",
    "    message = \"hello from process 0\"\n",
    "    print(f\"Process 0: 메시지 전송 완료: {message}\")\n",
    "    \n",
    "    # 프로세스 1로부터 응답 받기\n",
    "    response = \"hello from process 1\"\n",
    "    print(f\"Process 0: 프로세스 1로부터 응답 수신: {response}\")\n",
    "\n",
    "def process_1():\n",
    "    # 프로세스 0으로부터 메시지 수신\n",
    "    message = \"hello from process 0\"\n",
    "    print(f\"Process 1: 프로세스 0로부터 메시지 수신: {message}\")\n",
    "    \n",
    "    # 프로세스 0에게 응답 전송\n",
    "    response = \"hello from process 1\"\n",
    "    print(f\"Process 1: 응답 전송 완료: {response}\")\n",
    "\n",
    "# 병렬 실행\n",
    "with concurrent.futures.ProcessPoolExecutor() as executor:\n",
    "    # 프로세스 0과 프로세스 1을 동시에 실행\n",
    "    futures = [executor.submit(process_0), executor.submit(process_1)]\n",
    "    \n",
    "    # 모든 작업이 완료될 때까지 기다리기\n",
    "    for future in concurrent.futures.as_completed(futures):\n",
    "        future.result()  # 결과 확인 (출력 대기)\n"
   ]
  }
 ],
 "metadata": {
  "kernelspec": {
   "display_name": "myenv",
   "language": "python",
   "name": "python3"
  },
  "language_info": {
   "codemirror_mode": {
    "name": "ipython",
    "version": 3
   },
   "file_extension": ".py",
   "mimetype": "text/x-python",
   "name": "python",
   "nbconvert_exporter": "python",
   "pygments_lexer": "ipython3",
   "version": "3.9.20"
  }
 },
 "nbformat": 4,
 "nbformat_minor": 2
}
