{
 "cells": [
  {
   "cell_type": "code",
   "execution_count": 7,
   "metadata": {},
   "outputs": [],
   "source": [
    "from joblib import Parallel, delayed"
   ]
  },
  {
   "cell_type": "code",
   "execution_count": 6,
   "metadata": {},
   "outputs": [
    {
     "name": "stdout",
     "output_type": "stream",
     "text": [
      "/usr/local/lib/python3.11/site-packages/conda/base/context.py:982: FutureWarning: Adding 'defaults' to the channel list implicitly is deprecated and will be removed in 25.3. \n",
      "\n",
      "To remove this warning, please choose a default channel explicitly via 'conda config --add channels <name>', e.g. 'conda config --add channels defaults'.\n",
      "  deprecated.topic(\n",
      "/usr/local/lib/python3.11/site-packages/conda/base/context.py:982: FutureWarning: Adding 'defaults' to the channel list implicitly is deprecated and will be removed in 25.3. \n",
      "\n",
      "To remove this warning, please choose a default channel explicitly via 'conda config --add channels <name>', e.g. 'conda config --add channels defaults'.\n",
      "  deprecated.topic(\n",
      "Channels:\n",
      " - defaults\n",
      " - conda-forge\n",
      "Platform: linux-64\n",
      "Collecting package metadata (repodata.json): done\n",
      "Solving environment: done\n",
      "\n",
      "## Package Plan ##\n",
      "\n",
      "  environment location: /scratch/a1817a01/.conda/envs/myenv\n",
      "\n",
      "  added / updated specs:\n",
      "    - joblib\n",
      "\n",
      "\n",
      "The following packages will be downloaded:\n",
      "\n",
      "    package                    |            build\n",
      "    ---------------------------|-----------------\n",
      "    joblib-1.4.2               |   py39h06a4308_0         397 KB\n",
      "    ------------------------------------------------------------\n",
      "                                           Total:         397 KB\n",
      "\n",
      "The following NEW packages will be INSTALLED:\n",
      "\n",
      "  joblib             pkgs/main/linux-64::joblib-1.4.2-py39h06a4308_0 \n",
      "\n",
      "\n",
      "\n",
      "Downloading and Extracting Packages:\n",
      "                                                                                \n",
      "Preparing transaction: done\n",
      "Verifying transaction: done\n",
      "Executing transaction: done\n",
      "\n",
      "Note: you may need to restart the kernel to use updated packages.\n"
     ]
    }
   ],
   "source": [
    "conda install joblib"
   ]
  },
  {
   "cell_type": "code",
   "execution_count": 8,
   "metadata": {},
   "outputs": [
    {
     "name": "stdout",
     "output_type": "stream",
     "text": [
      "Hello from process 0\n",
      "Hello from process 1\n"
     ]
    }
   ],
   "source": [
    "from joblib import Parallel, delayed\n",
    "\n",
    "def say_hello(rank):\n",
    "    return f\"Hello from process {rank}\"\n",
    "\n",
    "# 사용할 프로세스 수\n",
    "num_processes = 2\n",
    "\n",
    "# 병렬로 작업 수행\n",
    "results = Parallel(n_jobs=num_processes)(delayed(say_hello)(i) for i in range(num_processes))\n",
    "\n",
    "# 결과 출력\n",
    "for result in results:\n",
    "    print(result)\n"
   ]
  },
  {
   "cell_type": "code",
   "execution_count": 9,
   "metadata": {},
   "outputs": [
    {
     "ename": "ModuleNotFoundError",
     "evalue": "No module named 'numpy'",
     "output_type": "error",
     "traceback": [
      "\u001b[0;31m---------------------------------------------------------------------------\u001b[0m",
      "\u001b[0;31mModuleNotFoundError\u001b[0m                       Traceback (most recent call last)",
      "\u001b[1;32m/home01/a1817a01/job_examples/t-04.ipynb Cell 4\u001b[0m line \u001b[0;36m2\n\u001b[1;32m      <a href='vscode-notebook-cell://ef5dr82g.console-nurion.ksc.re.kr/home01/a1817a01/job_examples/t-04.ipynb#W3sdnNjb2RlLXJlbW90ZQ%3D%3D?line=0'>1</a>\u001b[0m \u001b[39mfrom\u001b[39;00m \u001b[39mjoblib\u001b[39;00m \u001b[39mimport\u001b[39;00m Parallel, delayed\n\u001b[0;32m----> <a href='vscode-notebook-cell://ef5dr82g.console-nurion.ksc.re.kr/home01/a1817a01/job_examples/t-04.ipynb#W3sdnNjb2RlLXJlbW90ZQ%3D%3D?line=1'>2</a>\u001b[0m \u001b[39mimport\u001b[39;00m \u001b[39mnumpy\u001b[39;00m \u001b[39mas\u001b[39;00m \u001b[39mnp\u001b[39;00m\n\u001b[1;32m      <a href='vscode-notebook-cell://ef5dr82g.console-nurion.ksc.re.kr/home01/a1817a01/job_examples/t-04.ipynb#W3sdnNjb2RlLXJlbW90ZQ%3D%3D?line=3'>4</a>\u001b[0m \u001b[39m# 대량의 데이터를 생성합니다.\u001b[39;00m\n\u001b[1;32m      <a href='vscode-notebook-cell://ef5dr82g.console-nurion.ksc.re.kr/home01/a1817a01/job_examples/t-04.ipynb#W3sdnNjb2RlLXJlbW90ZQ%3D%3D?line=4'>5</a>\u001b[0m data \u001b[39m=\u001b[39m np\u001b[39m.\u001b[39marange(\u001b[39m10_000_000\u001b[39m)\n",
      "\u001b[0;31mModuleNotFoundError\u001b[0m: No module named 'numpy'"
     ]
    }
   ],
   "source": [
    "from joblib import Parallel, delayed\n",
    "import numpy as np\n",
    "\n",
    "# 대량의 데이터를 생성합니다.\n",
    "data = np.arange(10_000_000)\n",
    "\n",
    "# 각 요소를 제곱하는 함수\n",
    "def square_number(n):\n",
    "    return n ** 2\n",
    "\n",
    "# 사용할 프로세스 수\n",
    "num_processes = 4\n",
    "\n",
    "# 병렬로 제곱 작업 수행\n",
    "results = Parallel(n_jobs=num_processes)(delayed(square_number)(i) for i in data)\n",
    "\n",
    "# 결과의 일부를 출력\n",
    "print(results[:10])  # 처음 10개만 출력\n"
   ]
  },
  {
   "cell_type": "code",
   "execution_count": 10,
   "metadata": {},
   "outputs": [
    {
     "name": "stdout",
     "output_type": "stream",
     "text": [
      "/usr/local/lib/python3.11/site-packages/conda/base/context.py:982: FutureWarning: Adding 'defaults' to the channel list implicitly is deprecated and will be removed in 25.3. \n",
      "\n",
      "To remove this warning, please choose a default channel explicitly via 'conda config --add channels <name>', e.g. 'conda config --add channels defaults'.\n",
      "  deprecated.topic(\n",
      "/usr/local/lib/python3.11/site-packages/conda/base/context.py:982: FutureWarning: Adding 'defaults' to the channel list implicitly is deprecated and will be removed in 25.3. \n",
      "\n",
      "To remove this warning, please choose a default channel explicitly via 'conda config --add channels <name>', e.g. 'conda config --add channels defaults'.\n",
      "  deprecated.topic(\n",
      "Channels:\n",
      " - defaults\n",
      " - conda-forge\n",
      "Platform: linux-64\n",
      "Collecting package metadata (repodata.json): done\n",
      "Solving environment: done\n",
      "\n",
      "## Package Plan ##\n",
      "\n",
      "  environment location: /scratch/a1817a01/.conda/envs/myenv\n",
      "\n",
      "  added / updated specs:\n",
      "    - numpy\n",
      "\n",
      "\n",
      "The following packages will be downloaded:\n",
      "\n",
      "    package                    |            build\n",
      "    ---------------------------|-----------------\n",
      "    blas-1.0                   |         openblas          46 KB\n",
      "    libgfortran-ng-14.1.0      |       h69a702a_1          51 KB  conda-forge\n",
      "    libopenblas-0.3.21         |       h043d6bf_0         5.4 MB\n",
      "    numpy-2.0.1                |   py39heeff2f4_1          11 KB\n",
      "    numpy-base-2.0.1           |   py39h8a23956_1         7.9 MB\n",
      "    ------------------------------------------------------------\n",
      "                                           Total:        13.4 MB\n",
      "\n",
      "The following NEW packages will be INSTALLED:\n",
      "\n",
      "  blas               pkgs/main/linux-64::blas-1.0-openblas \n",
      "  libgfortran-ng     conda-forge/linux-64::libgfortran-ng-14.1.0-h69a702a_1 \n",
      "  libopenblas        pkgs/main/linux-64::libopenblas-0.3.21-h043d6bf_0 \n",
      "  numpy              pkgs/main/linux-64::numpy-2.0.1-py39heeff2f4_1 \n",
      "  numpy-base         pkgs/main/linux-64::numpy-base-2.0.1-py39h8a23956_1 \n",
      "\n",
      "\n",
      "\n",
      "Downloading and Extracting Packages:\n",
      "numpy-base-2.0.1     | 7.9 MB    |                                       |   0% \n",
      "libopenblas-0.3.21   | 5.4 MB    |                                       |   0% \u001b[A\n",
      "\n",
      "libgfortran-ng-14.1. | 51 KB     |                                       |   0% \u001b[A\u001b[A\n",
      "\n",
      "\n",
      "blas-1.0             | 46 KB     |                                       |   0% \u001b[A\u001b[A\u001b[A\n",
      "\n",
      "\n",
      "\n",
      "numpy-2.0.1          | 11 KB     |                                       |   0% \u001b[A\u001b[A\u001b[A\u001b[A\n",
      "numpy-base-2.0.1     | 7.9 MB    |                                       |   0% \u001b[A\n",
      "\n",
      "\n",
      "blas-1.0             | 46 KB     | ############9                         |  35% \u001b[A\u001b[A\u001b[A\n",
      "\n",
      "libgfortran-ng-14.1. | 51 KB     | ###########6                          |  31% \u001b[A\u001b[A\n",
      "libopenblas-0.3.21   | 5.4 MB    | ##################7                   |  51% \u001b[A\n",
      "\n",
      "\n",
      "\n",
      "numpy-2.0.1          | 11 KB     | ##################################### | 100% \u001b[A\u001b[A\u001b[A\u001b[A\n",
      "\n",
      "\n",
      "blas-1.0             | 46 KB     | ##################################### | 100% \u001b[A\u001b[A\u001b[A\n",
      "\n",
      "\n",
      "blas-1.0             | 46 KB     | ##################################### | 100% \u001b[A\u001b[A\u001b[A\n",
      "libopenblas-0.3.21   | 5.4 MB    | ##################################### | 100% \u001b[A\n",
      "libopenblas-0.3.21   | 5.4 MB    | ##################################### | 100% \u001b[A\n",
      "\n",
      "libgfortran-ng-14.1. | 51 KB     | ##################################### | 100% \u001b[A\u001b[A\n",
      "\n",
      "libgfortran-ng-14.1. | 51 KB     | ##################################### | 100% \u001b[A\u001b[A\n",
      "\n",
      "\n",
      "\n",
      "                                                                                \u001b[A\u001b[A\u001b[A\u001b[A\n",
      "                                                                                \u001b[A\n",
      "\n",
      "                                                                                \u001b[A\u001b[A\n",
      "\n",
      "\n",
      "                                                                                \u001b[A\u001b[A\u001b[A\n",
      "\n",
      "\n",
      "\n",
      "                                                                                \u001b[A\u001b[A\u001b[A\u001b[A\n",
      "Preparing transaction: done\n",
      "Verifying transaction: done\n",
      "Executing transaction: done\n",
      "\n",
      "Note: you may need to restart the kernel to use updated packages.\n"
     ]
    }
   ],
   "source": [
    "conda install numpy\n"
   ]
  },
  {
   "cell_type": "code",
   "execution_count": 11,
   "metadata": {},
   "outputs": [
    {
     "name": "stdout",
     "output_type": "stream",
     "text": [
      "[np.int64(0), np.int64(1), np.int64(4), np.int64(9), np.int64(16), np.int64(25), np.int64(36), np.int64(49), np.int64(64), np.int64(81)]\n"
     ]
    }
   ],
   "source": [
    "from joblib import Parallel, delayed\n",
    "import numpy as np\n",
    "\n",
    "# 대량의 데이터를 생성합니다.\n",
    "data = np.arange(10_000_000)\n",
    "\n",
    "# 각 요소를 제곱하는 함수\n",
    "def square_number(n):\n",
    "    return n ** 2\n",
    "\n",
    "# 사용할 프로세스 수\n",
    "num_processes = 36  # 36개의 프로세스를 사용합니다.\n",
    "\n",
    "# 병렬로 제곱 작업 수행\n",
    "results = Parallel(n_jobs=num_processes)(delayed(square_number)(i) for i in data)\n",
    "\n",
    "# 결과의 일부를 출력\n",
    "print(results[:10])  # 처음 10개만 출력\n"
   ]
  }
 ],
 "metadata": {
  "kernelspec": {
   "display_name": "myenv",
   "language": "python",
   "name": "python3"
  },
  "language_info": {
   "codemirror_mode": {
    "name": "ipython",
    "version": 3
   },
   "file_extension": ".py",
   "mimetype": "text/x-python",
   "name": "python",
   "nbconvert_exporter": "python",
   "pygments_lexer": "ipython3",
   "version": "3.9.20"
  }
 },
 "nbformat": 4,
 "nbformat_minor": 2
}
